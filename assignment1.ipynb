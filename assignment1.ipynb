{
 "cells": [
  {
   "cell_type": "code",
   "execution_count": null,
   "id": "098b2971-5d7a-4d7f-aec2-3400a31a72b0",
   "metadata": {},
   "outputs": [
    {
     "name": "stdout",
     "output_type": "stream",
     "text": [
      "8760    11834.950359\n",
      "dtype: float64\n"
     ]
    },
    {
     "name": "stderr",
     "output_type": "stream",
     "text": [
      "c:\\Users\\jared\\anaconda3\\Lib\\site-packages\\statsmodels\\tsa\\holtwinters\\model.py:918: ConvergenceWarning: Optimization failed to converge. Check mle_retvals.\n",
      "  warnings.warn(\n",
      "c:\\Users\\jared\\anaconda3\\Lib\\site-packages\\statsmodels\\tsa\\holtwinters\\model.py:918: ConvergenceWarning: Optimization failed to converge. Check mle_retvals.\n",
      "  warnings.warn(\n"
     ]
    },
    {
     "data": {
      "text/plain": [
       "8760     5385.400456\n",
       "8761     2470.785408\n",
       "8762      490.062475\n",
       "8763    -1179.456855\n",
       "8764    -2375.252047\n",
       "            ...     \n",
       "9499    14186.289443\n",
       "9500    12693.749790\n",
       "9501    12306.029373\n",
       "9502    11140.004629\n",
       "9503     8586.911629\n",
       "Length: 744, dtype: float64"
      ]
     },
     "execution_count": 13,
     "metadata": {},
     "output_type": "execute_result"
    }
   ],
   "source": [
    "import pandas as pd\n",
    "from statsmodels.tsa.api import ExponentialSmoothing\n",
    "from statsmodels.tsa.api import SimpleExpSmoothing\n",
    "import numpy as np\n",
    "\n",
    "df = pd.read_csv(\"https://github.com/jareddingman/econ8310-assignment1/raw/refs/heads/main/assignment_data_train.csv\")\n",
    "df.head()\n",
    "\n",
    "#\"The simplest model often works the best - Dusty\"\n",
    "\n",
    "#------------Exponential Smoothing-------------\n",
    "\n",
    "dfRides = df['trips']\n",
    "alpha020 = SimpleExpSmoothing(dfRides).fit(\n",
    "                    smoothing_level=0.2,\n",
    "                    optimized=False)\n",
    "level2 = alpha020.forecast(1)\n",
    "print(level2)\n",
    "\n",
    "model = SimpleExpSmoothing(dfRides).fit(\n",
    "                    optimized=True)\n",
    "\n",
    "modelFit = ExponentialSmoothing(dfRides,  \n",
    "            seasonal='add', \n",
    "            seasonal_periods=24,\n",
    "            ).fit()\n",
    "\n",
    "pred = modelFit.forecast(744)"
   ]
  }
 ],
 "metadata": {
  "kernelspec": {
   "display_name": "base",
   "language": "python",
   "name": "python3"
  },
  "language_info": {
   "codemirror_mode": {
    "name": "ipython",
    "version": 3
   },
   "file_extension": ".py",
   "mimetype": "text/x-python",
   "name": "python",
   "nbconvert_exporter": "python",
   "pygments_lexer": "ipython3",
   "version": "3.12.7"
  }
 },
 "nbformat": 4,
 "nbformat_minor": 5
}
